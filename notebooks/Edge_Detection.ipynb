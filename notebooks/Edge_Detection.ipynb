{
 "cells": [
  {
   "cell_type": "markdown",
   "id": "5c95f4cc-2e8c-45e6-929a-4405c3289bbd",
   "metadata": {
    "slideshow": {
     "slide_type": "slide"
    },
    "tags": []
   },
   "source": [
    "# Import Packages"
   ]
  },
  {
   "cell_type": "code",
   "execution_count": 5,
   "id": "4eeb2e26-a0dd-4d76-a84a-8d1d6537142d",
   "metadata": {
    "slideshow": {
     "slide_type": "subslide"
    },
    "tags": []
   },
   "outputs": [
    {
     "name": "stdout",
     "output_type": "stream",
     "text": [
      "env: MUJOCO_GL=egl\n"
     ]
    }
   ],
   "source": [
    "import time\n",
    "from collections import deque\n",
    "from multiprocessing import Pool, Process\n",
    "from xml.etree import ElementTree as et\n",
    "\n",
    "import matplotlib\n",
    "import matplotlib.animation as animation\n",
    "import matplotlib.pyplot as plt\n",
    "import numpy as np\n",
    "import scipy\n",
    "from alive_progress import alive_bar\n",
    "from dm_control import composer, mjcf, mujoco\n",
    "\n",
    "# Access to enums and MuJoCo library functions.\n",
    "from dm_control.mujoco.wrapper.mjbindings import enums, mjlib\n",
    "from dm_control.utils import inverse_kinematics as ik\n",
    "from IPython.display import HTML\n",
    "from PIL import Image\n",
    "from scipy.special import gamma\n",
    "from sklearn.decomposition import PCA\n",
    "\n",
    "\n",
    "%env MUJOCO_GL=egl\n",
    "%matplotlib widget"
   ]
  },
  {
   "cell_type": "markdown",
   "id": "d33ac14e-d0c1-4a52-9f42-6282d4d799d4",
   "metadata": {
    "slideshow": {
     "slide_type": "slide"
    },
    "tags": []
   },
   "source": [
    "# Define Utility Methods and Constants"
   ]
  },
  {
   "cell_type": "code",
   "execution_count": null,
   "id": "9504d090-7cf9-470a-8d44-0969fb9960b0",
   "metadata": {
    "slideshow": {
     "slide_type": "slide"
    },
    "tags": []
   },
   "outputs": [],
   "source": [
    "# Rendering parameters\n",
    "dpi = 100\n",
    "framerate = 60  # (Hz)\n",
    "width, height = 1920, 1080\n",
    "\n",
    "# IK solver parameters\n",
    "_MAX_STEPS = 100\n",
    "_TOL = 1e-12\n",
    "_TIME_STEP = 2e-3\n",
    "\n",
    "# Scene XML\n",
    "robot_xml = \"models/panda_nohand.xml\"\n",
    "scene_xml = \"models/scene.xml\"\n",
    "\n",
    "\n",
    "def display_video(frames, framerate=framerate, figsize=None):\n",
    "    height, width, _ = frames[0].shape\n",
    "    orig_backend = matplotlib.get_backend()\n",
    "    matplotlib.use(\"Agg\")  # Switch to headless 'Agg' to inhibit figure rendering.\n",
    "    if figsize is None:\n",
    "        figsize = (width / dpi, height / dpi)\n",
    "    fig, ax = plt.subplots(1, 1, figsize=figsize, dpi=dpi)\n",
    "    matplotlib.use(orig_backend)  # Switch back to the original backend.\n",
    "    ax.set_axis_off()\n",
    "    ax.set_aspect(\"equal\")\n",
    "    ax.set_position([0, 0, 1, 1])\n",
    "    im = ax.imshow(frames[0])\n",
    "\n",
    "    def update(frame):\n",
    "        im.set_data(frame)\n",
    "        return [im]\n",
    "\n",
    "    interval = 1000 / framerate\n",
    "    anim = animation.FuncAnimation(\n",
    "        fig=fig, func=update, frames=frames, interval=interval, blit=True, repeat=False\n",
    "    )\n",
    "    return HTML(anim.to_html5_video())\n",
    "\n",
    "\n",
    "def J_zero(physics, site_name):\n",
    "    phys = mujoco.Physics.from_model(physics.model)\n",
    "    jac_pos = np.zeros((3, phys.model.nv))\n",
    "    jac_rot = np.zeros((3, phys.model.nv))\n",
    "    mjlib.mj_jacSite(\n",
    "        phys.model.ptr,\n",
    "        phys.data.ptr,\n",
    "        jac_pos,\n",
    "        jac_rot,\n",
    "        phys.model.name2id(site_name, \"site\"),\n",
    "    )\n",
    "\n",
    "    return np.vstack((jac_pos, jac_rot))"
   ]
  },
  {
   "cell_type": "markdown",
   "id": "7718f4f0-5a07-4230-bd30-8c4e1518f398",
   "metadata": {
    "slideshow": {
     "slide_type": "slide"
    },
    "tags": []
   },
   "source": [
    "# Update The Scene XML File\n",
    "* [Mujoco XML Reference](https://mujoco.readthedocs.io/en/latest/XMLreference.html?highlight=site#body-site)\n",
    "* [The ElementTree XML API](https://docs.python.org/3/library/xml.etree.elementtree.html)"
   ]
  },
  {
   "cell_type": "markdown",
   "id": "0cf1f879-1ee2-4a69-b0e8-c3a88ea4deb4",
   "metadata": {
    "slideshow": {
     "slide_type": "slide"
    },
    "tags": []
   },
   "source": [
    "## Tactile Sensor\n",
    "\n",
    "1. Sensor Pad \n",
    "* for visual only\n",
    "\n",
    "2. Collision Balls (single or dual layer)\n",
    "* _M: (x-count, y-count)\n",
    "* geom_type: [sphere, capsule, ellipsoid, cylinder, box], “sphere”\n",
    "* dx: the distance between each site\n",
    "* offset: uniform distance to shift all sites\n",
    "\n",
    "3. Slide Joints\n",
    "* connect the balls to the pad\n",
    "* joint positions serve as sensory values\n",
    "* small time constant\n",
    "\n",
    "4. Tendons to Connect Balls\n",
    "* planar spring connection\n",
    "* creates contact-force distribution"
   ]
  },
  {
   "cell_type": "code",
   "execution_count": null,
   "id": "7a9debed-c624-44cf-8c9f-ea7a519f9022",
   "metadata": {
    "slideshow": {
     "slide_type": "subslide"
    },
    "tags": []
   },
   "outputs": [],
   "source": [
    "# Define 3D arrays of balls connected with sliders\n",
    "_M = (20, 20)\n",
    "radius = 4e-4\n",
    "mass = 1e-12 / np.prod(_M)\n",
    "dx = (3e-2 - 2 * radius) / (_M[0] - 1)\n",
    "offset = dx * (_M[0] - 1) / 2.0\n",
    "geom_type = \"sphere\"\n",
    "\n",
    "tree = et.parse(robot_xml)\n",
    "root = tree.getroot()\n",
    "for body in root.findall(\".//body\"):\n",
    "    if body.get(\"name\") == \"sensor_pad\":\n",
    "        sensor_pad = body\n",
    "\n",
    "# If balls and tendons are already defined, remove them first\n",
    "if sensor_pad.find(\"body\") is not None:\n",
    "    for body in sensor_pad.findall(\"body\"):\n",
    "        sensor_pad.remove(body)\n",
    "tendon = root.find(\"tendon\")\n",
    "if tendon is not None:\n",
    "    for spatial in tendon.findall(\"spatial\"):\n",
    "        tendon.remove(spatial)\n",
    "\n",
    "\n",
    "def create_linked_ball(sid, pos, euler, springdamper=(1e-2, 1)):\n",
    "    # Create base ball\n",
    "    elem = et.Element(\"body\")\n",
    "    elem.set(\"name\", \"taxel\" + str(sid))\n",
    "    elem.set(\"pos\", \"{:.6f} {:.6f} {:.6f}\".format(pos[0], pos[1], pos[2]))\n",
    "    elem.set(\"euler\", euler)\n",
    "    # Inertia\n",
    "    inertia = et.Element(\"inertial\")\n",
    "    inertia.set(\"mass\", str(mass))\n",
    "    inertia.set(\"pos\", \"0 0 0\")\n",
    "    inertia.set(\"fullinertia\", \"1e-6 1e-6 1e-6 0 0 0\")\n",
    "    # Joint\n",
    "    joint = et.Element(\"joint\")\n",
    "    joint.set(\"type\", \"slide\")\n",
    "    joint.set(\"axis\", \"0 0 1\")\n",
    "    joint.set(\"springdamper\", \"{} {}\".format(springdamper[0], springdamper[1]))\n",
    "    joint.set(\"frictionloss\", \"1e-2\")\n",
    "    # Geom\n",
    "    geom = et.Element(\"geom\")\n",
    "    geom.set(\"name\", \"ball\" + str(sid))\n",
    "    geom.set(\"type\", geom_type)\n",
    "    geom.set(\"size\", str(radius))\n",
    "    geom.set(\"class\", \"collision\")\n",
    "    # Site\n",
    "    site = et.Element(\"site\")\n",
    "    site.set(\"name\", \"tendon_site\" + str(sid))\n",
    "    site.set(\"type\", \"sphere\")\n",
    "    site.set(\"size\", \"1e-4\")\n",
    "    site.set(\"group\", \"1\")\n",
    "    # Add to dynamic tree\n",
    "    elem.append(inertia)\n",
    "    elem.append(joint)\n",
    "    elem.append(geom)\n",
    "    elem.append(site)\n",
    "    return elem\n",
    "\n",
    "\n",
    "def create_tendon(tid, site_names):\n",
    "    spatial = et.Element(\"spatial\")\n",
    "    spatial.set(\"name\", \"tendom\" + str(tid))\n",
    "    spatial.set(\"width\", \"2e-4\")\n",
    "    spatial.set(\"limited\", \"true\")\n",
    "    spatial.set(\"range\", \"0 {:.6f}\".format(4 * dx))\n",
    "    spatial.set(\"frictionloss\", \"1e-2\")\n",
    "    spatial.set(\"stiffness\", \"1e-2\")\n",
    "    spatial.set(\"damping\", \"0.4\")\n",
    "    for sn in site_names:\n",
    "        site = et.Element(\"site\")\n",
    "        site.set(\"site\", sn)\n",
    "        spatial.append(site)\n",
    "    return spatial\n",
    "\n",
    "\n",
    "# Define balls with sliders and touch sensors\n",
    "sid = 0\n",
    "for i in range(_M[0]):\n",
    "    for j in range(_M[1]):\n",
    "        sid += 1\n",
    "        parent = create_linked_ball(\n",
    "            sid, (dx * i - offset, dx * j - offset, 1e-3), \"0 0 0\", (2e-3, 0.9)\n",
    "        )\n",
    "        # child = create_linked_ball(sid + _M[0]*_M[1], (0, 0, 2e-3), '0 0 0', (1e-3, 0.9))\n",
    "        # parent.append(child)\n",
    "        sensor_pad.append(parent)\n",
    "\n",
    "# Define tendons\n",
    "tid = 0\n",
    "for m in range(_M[0]):\n",
    "    for n in range(_M[1]):\n",
    "        tid += 1\n",
    "        if n != _M[0] - 1:\n",
    "            site_ids = [n + 1 + k + m * _M[0] for k in range(2)]\n",
    "            spatial = create_tendon(tid, [\"tendon_site\" + str(i) for i in site_ids])\n",
    "            tendon.append(spatial)\n",
    "        if m != _M[0] - 1:\n",
    "            tid += 1\n",
    "            site_ids = [n + 1 + (m + k) * _M[0] for k in range(2)]\n",
    "            spatial = create_tendon(tid, [\"tendon_site\" + str(i) for i in site_ids])\n",
    "            tendon.append(spatial)\n",
    "\n",
    "\n",
    "tree.write(robot_xml)  # Save robot"
   ]
  },
  {
   "cell_type": "markdown",
   "id": "c2fc6662-0a8f-4aff-b559-64c01724ead9",
   "metadata": {},
   "source": [
    "## Setup `rotator_scene.xml` Key Frames\n",
    "* Initial poses"
   ]
  },
  {
   "cell_type": "code",
   "execution_count": null,
   "id": "f17a542c-1b26-41e0-9301-baf02301bca0",
   "metadata": {},
   "outputs": [],
   "source": [
    "# Modify the keyframe home key qpos\n",
    "njoints = np.prod(_M) + 10\n",
    "tree = et.parse(scene_xml)\n",
    "root = tree.getroot()\n",
    "key = root.find(\".//keyframe/key\")\n",
    "qpos_value = \"0 0 0 -1.570796 0 1.570796 0.785398 0 0 0\"\n",
    "key.attrib[\"ctrl\"] = qpos_value\n",
    "if njoints > 10:\n",
    "    qpos_value += \" \" + \" \".join([\"0\" for i in range(njoints - 10)])\n",
    "key.attrib[\"qpos\"] = qpos_value\n",
    "tree.write(scene_xml)"
   ]
  },
  {
   "cell_type": "markdown",
   "id": "a3ce4af4-7ff0-4d41-b5ce-ce0e3ca3cd1d",
   "metadata": {},
   "source": [
    "# Robotic Simulation for Tactile Encoding Test\n",
    "\n",
    "* Contact the Objects and Gain Tactile Feedback on Multiple Edge Types\n",
    "1. curvy\n",
    "2. round\n",
    "3. plateau"
   ]
  },
  {
   "cell_type": "code",
   "execution_count": null,
   "id": "7f647756-9787-45cc-8bcf-5c7389165aee",
   "metadata": {},
   "outputs": [],
   "source": [
    "# Load scene\n",
    "physics = mujoco.Physics.from_xml_path(scene_xml)\n",
    "\n",
    "# Define simulation variables\n",
    "site_name = \"attachment_site\"\n",
    "control_site = physics.data.site(name=site_name)\n",
    "reach_sites = [\"reach_site\" + str(i + 1) for i in range(3)]\n",
    "joint_names = [\"joint{}\".format(i + 1) for i in range(7)]\n",
    "\n",
    "\n",
    "def wrap2pi(xs):\n",
    "    return np.mod(xs, 2 * np.pi)\n",
    "\n",
    "\n",
    "def reach_test(target_name, duration=5.0, rendered=False):\n",
    "    omega = np.array([1, 1, 1]) * 2 * np.pi / duration  # Rotator angular velocities\n",
    "    target_site = physics.data.site(name=target_name)\n",
    "    video = []\n",
    "    stream = []\n",
    "    orientations = []\n",
    "\n",
    "    # Simulate, saving video frames\n",
    "    physics.reset(0)\n",
    "    physics.step()\n",
    "    ctrl = np.zeros(10)\n",
    "    quat = np.zeros(4)\n",
    "    mjlib.mju_mat2Quat(quat, control_site.xmat)\n",
    "    with alive_bar(\n",
    "        int(duration / _TIME_STEP), force_tty=True, title=\"Simulating\"\n",
    "    ) as bar:\n",
    "        while physics.data.time < duration:\n",
    "            target_pos = target_site.xpos\n",
    "            if physics.data.time < duration * 0.1:\n",
    "                target_pos[2] += 0.02\n",
    "            # Compute the inverse kinematics\n",
    "            if np.linalg.norm(control_site.xpos - target_pos) > _TOL:\n",
    "                result = ik.qpos_from_site_pose(\n",
    "                    physics,\n",
    "                    site_name,\n",
    "                    target_pos=target_site.xpos,\n",
    "                    target_quat=quat,\n",
    "                    joint_names=joint_names,\n",
    "                    tol=_TOL,\n",
    "                    max_steps=_MAX_STEPS,\n",
    "                    inplace=False,\n",
    "                )\n",
    "                ctrl[:7] = result.qpos[:7]\n",
    "            ctrl[-3:] = wrap2pi(omega * physics.data.time)\n",
    "            physics.set_control(ctrl)\n",
    "            physics.step()\n",
    "\n",
    "            # Save contact pressure > 0\n",
    "            if physics.data.time >= 2.0:\n",
    "                pressure = physics.data.qpos[7:-3].copy().reshape(_M)\n",
    "                stream.append(np.expand_dims(pressure, -1))\n",
    "                rotator_ctrl = physics.data.qpos[-3:].copy()\n",
    "                orientations.append(rotator_ctrl)\n",
    "\n",
    "            # Save video frames and sensor data\n",
    "            if rendered and len(video) < physics.data.time * framerate:\n",
    "                pixels = physics.render(\n",
    "                    camera_id=\"prospective\", width=width, height=height\n",
    "                )\n",
    "                video.append(pixels.copy())\n",
    "\n",
    "            # Update progress\n",
    "            bar()\n",
    "    return video, stream, np.array(orientations)\n",
    "\n",
    "\n",
    "# Solo for testing XML\n",
    "physics.reset(0)\n",
    "pixels = physics.render(camera_id=\"prospective\", width=width, height=height)\n",
    "Image.fromarray(pixels)"
   ]
  },
  {
   "cell_type": "markdown",
   "id": "e60641aa-7ee2-4664-af4f-053f97832581",
   "metadata": {},
   "source": [
    "## Curvy Edge"
   ]
  },
  {
   "cell_type": "code",
   "execution_count": null,
   "id": "ecd796d9-3757-47ee-b50e-097f5a3631b0",
   "metadata": {},
   "outputs": [],
   "source": [
    "video1, stream1, oris1 = reach_test(reach_sites[0])\n",
    "#display_video(video1)"
   ]
  },
  {
   "cell_type": "code",
   "execution_count": null,
   "id": "54db9ba4-dc0e-4d93-8a46-46aaf7ba243a",
   "metadata": {},
   "outputs": [],
   "source": [
    "display_video(stream1, 30, (5, 5))"
   ]
  },
  {
   "cell_type": "markdown",
   "id": "a84936b8-558b-4dd4-9fc0-4e2bcac55b5a",
   "metadata": {},
   "source": [
    "## Round Edge"
   ]
  },
  {
   "cell_type": "code",
   "execution_count": null,
   "id": "874cfc6b-7b32-44e1-8cff-b84ad0ad74c5",
   "metadata": {},
   "outputs": [],
   "source": [
    "video2, stream2, oris2 = reach_test(reach_sites[1])\n",
    "#display_video(video2)"
   ]
  },
  {
   "cell_type": "code",
   "execution_count": null,
   "id": "53fe2747-f632-418b-9899-e7ad3f1b6924",
   "metadata": {},
   "outputs": [],
   "source": [
    "#display_video(stream2, 30, (5, 5))"
   ]
  },
  {
   "cell_type": "markdown",
   "id": "f970e2ea-2680-4c46-ac3c-51cab8bc3489",
   "metadata": {},
   "source": [
    "## Plateau Edge"
   ]
  },
  {
   "cell_type": "code",
   "execution_count": null,
   "id": "69c27648-7599-4abf-87ad-15d63de0cb12",
   "metadata": {},
   "outputs": [],
   "source": [
    "video3, stream3, oris3 = reach_test(reach_sites[2])\n",
    "#display_video(video3)"
   ]
  },
  {
   "cell_type": "code",
   "execution_count": null,
   "id": "c872afd5-6377-45db-923f-983e7f848c7c",
   "metadata": {},
   "outputs": [],
   "source": [
    "display_video(stream3, 30, (5, 5))"
   ]
  },
  {
   "cell_type": "markdown",
   "id": "3d4af7f2-597f-4e3d-b6a0-409fa0f12500",
   "metadata": {},
   "source": [
    "# Save Edge Data Streams"
   ]
  },
  {
   "cell_type": "code",
   "execution_count": null,
   "id": "60f69a0a-b2cd-42ff-984d-1b3deaef9b58",
   "metadata": {},
   "outputs": [],
   "source": [
    "# Save stream data for analysis\n",
    "np.savez_compressed(\n",
    "    \"touch_stream\",\n",
    "    curvy_stream=stream1,\n",
    "    round_stream=stream2,\n",
    "    plateau_stream=stream3,\n",
    "    curvy_oris=oris1[:,0],\n",
    "    round_oris=oris2[:,1],\n",
    "    plateau_oris=oris3[:,2]\n",
    ")"
   ]
  },
  {
   "cell_type": "markdown",
   "id": "7925ba1f-043f-4932-ba26-5e73b2aa8557",
   "metadata": {},
   "source": [
    "# Edge Orientation and Width Detection\n",
    "1. Generalized Gaussian Encoding for Tactile Signals\n",
    "* F. Pascal, L. Bombrun, J. -Y. Tourneret and Y. Berthoumieu, \"Parameter Estimation For Multivariate Generalized Gaussian Distributions,\" in IEEE Transactions on Signal Processing, vol. 61, no. 23, pp. 5960-5971, Dec.1, 2013, doi: 10.1109/TSP.2013.2282909."
   ]
  },
  {
   "cell_type": "code",
   "execution_count": 2,
   "id": "c3e61400-f99f-4e0d-8929-65985c688d87",
   "metadata": {},
   "outputs": [
    {
     "name": "stderr",
     "output_type": "stream",
     "text": [
      "/home/alex/miniconda3/envs/mujoco/lib/python3.10/site-packages/brian2/__init__.py:85: DeprecationWarning: distutils Version classes are deprecated. Use packaging.version instead.\n",
      "  if not LooseVersion(module.__version__) >= LooseVersion(version):\n",
      "/home/alex/miniconda3/envs/mujoco/lib/python3.10/site-packages/brian2/__init__.py:85: DeprecationWarning: distutils Version classes are deprecated. Use packaging.version instead.\n",
      "  if not LooseVersion(module.__version__) >= LooseVersion(version):\n",
      "/home/alex/miniconda3/envs/mujoco/lib/python3.10/site-packages/brian2/__init__.py:85: DeprecationWarning: distutils Version classes are deprecated. Use packaging.version instead.\n",
      "  if not LooseVersion(module.__version__) >= LooseVersion(version):\n",
      "/home/alex/miniconda3/envs/mujoco/lib/python3.10/site-packages/brian2/__init__.py:85: DeprecationWarning: distutils Version classes are deprecated. Use packaging.version instead.\n",
      "  if not LooseVersion(module.__version__) >= LooseVersion(version):\n",
      "/home/alex/miniconda3/envs/mujoco/lib/python3.10/site-packages/brian2/__init__.py:85: DeprecationWarning: distutils Version classes are deprecated. Use packaging.version instead.\n",
      "  if not LooseVersion(module.__version__) >= LooseVersion(version):\n",
      "/home/alex/miniconda3/envs/mujoco/lib/python3.10/site-packages/brian2/__init__.py:85: DeprecationWarning: distutils Version classes are deprecated. Use packaging.version instead.\n",
      "  if not LooseVersion(module.__version__) >= LooseVersion(version):\n",
      "WARNING    Cannot check whether the indices to record from are valid. This can happen in standalone mode when recording from synapses that have been created with a connection pattern. You can avoid this situation by using synaptic indices in the connect call. [brian2.monitors.statemonitor.cannot_check_statemonitor_indices]\n"
     ]
    },
    {
     "name": "stdout",
     "output_type": "stream",
     "text": [
      "Starting simulation at t=0 s for duration 1.502 s\n",
      "1.502 s (100%) simulated in < 1s\n"
     ]
    }
   ],
   "source": [
    "# Load dataset\n",
    "streams = np.load(\"touch_stream.npz\")\n",
    "[sCurvy, sRound, sPlateau, oCurvy, oRound, oPlateau] = [np.squeeze(streams[file]) for file in streams.files]\n",
    "frames = np.min([len(sCurvy), len(sRound), len(sPlateau)])\n",
    "\n",
    "\n",
    "def compute_vec(data):\n",
    "    pca = PCA(n_components=2)\n",
    "    mat = -np.squeeze(data)\n",
    "    mat = (mat - np.min(mat)) / np.std(mat)\n",
    "    x, y = np.where(mat > np.mean(mat))\n",
    "    X = np.squeeze(np.dstack((x, y)))\n",
    "    x0, y0 = np.ceil(np.mean(X, axis=0))\n",
    "    pca.fit(X)\n",
    "    V = pca.components_\n",
    "    a = np.sqrt(pca.singular_values_)\n",
    "    V[0, :] *= a[1]  # Edge width\n",
    "    V[1, :] *= 1.7 * a[0]  # Edge direction\n",
    "    origin = np.array([[y0, y0], [x0, x0]])\n",
    "    W = np.vstack((V[0, :], -V[0, :]))\n",
    "    V = np.vstack((V[1, :], -V[1, :]))\n",
    "    m = 1\n",
    "    beta = a[1]\n",
    "    mu = np.array([x0, y0])\n",
    "    M = pca.get_covariance()\n",
    "    mggd = M\n",
    "    return origin, V, W\n",
    "\n",
    "\n",
    "# Visualize data stream\n",
    "def visualize(dataset, title):\n",
    "    orig_backend = matplotlib.get_backend()\n",
    "    matplotlib.use(\"Agg\")  # Switch to headless 'Agg' to inhibit figure rendering.\n",
    "    fig, ax = plt.subplots(1, 1, figsize=(5, 5), dpi=100)\n",
    "    matplotlib.use(orig_backend)  # Switch back to the original backend.\n",
    "    ax.set_title(title)\n",
    "    im = ax.imshow(dataset[0])\n",
    "    origin, V, W = compute_vec(dataset[0])\n",
    "\n",
    "    quiverV = ax.quiver(*origin, V[:, 0], V[:, 1], color=[\"r\"], scale=20)\n",
    "    quiverW = ax.quiver(\n",
    "        *origin,\n",
    "        W[:, 0],\n",
    "        W[:, 1],\n",
    "        color=[\"b\"],\n",
    "        scale=20,\n",
    "        headaxislength=0,\n",
    "        headwidth=0,\n",
    "        headlength=0\n",
    "    )\n",
    "\n",
    "    def update(frame):\n",
    "        im.set_data(dataset[frame])\n",
    "        origin, V, W = compute_vec(dataset[frame])\n",
    "        quiverV.set_offsets(origin.T)\n",
    "        quiverV.set_UVC(V[:, 0], V[:, 1])\n",
    "        quiverW.set_offsets(origin.T)\n",
    "        quiverW.set_UVC(W[:, 0], W[:, 1])\n",
    "        return [im, quiverV, quiverW]\n",
    "\n",
    "    anim = animation.FuncAnimation(\n",
    "        fig=fig, func=update, frames=frames, interval=30, blit=True, repeat=False\n",
    "    )\n",
    "    return HTML(anim.to_html5_video())\n",
    "\n",
    "\n",
    "#visualize(sCurvy, 'Curvy Edge')\n",
    "#visualize(sRound, 'Round Edge')\n",
    "#visualize(sPlateau, \"Plateu Edge\")"
   ]
  }
 ],
 "metadata": {
  "kernelspec": {
   "display_name": "Python 3 (ipykernel)",
   "language": "python",
   "name": "python3"
  },
  "language_info": {
   "codemirror_mode": {
    "name": "ipython",
    "version": 3
   },
   "file_extension": ".py",
   "mimetype": "text/x-python",
   "name": "python",
   "nbconvert_exporter": "python",
   "pygments_lexer": "ipython3",
   "version": "3.10.6"
  },
  "toc-autonumbering": true,
  "toc-showmarkdowntxt": false
 },
 "nbformat": 4,
 "nbformat_minor": 5
}
