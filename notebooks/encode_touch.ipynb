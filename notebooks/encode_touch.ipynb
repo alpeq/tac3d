{
 "cells": [
  {
   "cell_type": "markdown",
   "id": "f3d47cce-8417-4753-9af7-49cb41578f6f",
   "metadata": {},
   "source": [
    "# Multivariate Generalized Gaussian Spatial Model"
   ]
  },
  {
   "cell_type": "markdown",
   "id": "ac9e7e83-a1a1-45c9-ad84-55477249decd",
   "metadata": {},
   "source": [
    "## Generative Model with Stochastic representation: $\\mathbf{x} = \\tau \\Sigma^{1/2} \\mathbf{u}$\n",
    "1. $\\mathbf{u} \\in \\mathbb{R}^2$ is a random vector sampled from a unit circle\n",
    "2. Scatter matrix $\\Sigma = m \\mathbf{M}$\n",
    "3. Shape parameter $\\beta$\n",
    "4. $\\tau^{2 \\beta} \\sim \\Gamma(\\frac{p}{2 \\beta}, 2)$"
   ]
  },
  {
   "cell_type": "code",
   "execution_count": null,
   "id": "7ae9efaa-5122-4f2c-8707-d5e17c6ba5db",
   "metadata": {},
   "outputs": [],
   "source": [
    "%matplotlib widget\n",
    "\n",
    "import matplotlib.pyplot as plt\n",
    "import numpy as np\n",
    "from matplotlib.animation import FuncAnimation\n",
    "from scipy.stats import special_ortho_group\n",
    "\n",
    "\n",
    "def random_scatter(m=1, p=2):\n",
    "    M = np.random.rand(p, p)\n",
    "    M = 0.5 * (M + M.T)\n",
    "    return m * M / M.trace()\n",
    "\n",
    "\n",
    "class MultiVarGenGaussian:\n",
    "    def __init__(self, mu, Sigma, beta, p=2):\n",
    "        self._p = p\n",
    "        self._mu = mu\n",
    "        self._beta = beta\n",
    "        self.Sigma = Sigma\n",
    "\n",
    "    @property\n",
    "    def dim(self):\n",
    "        return self._p\n",
    "\n",
    "    @dim.setter\n",
    "    def dim(self, val):\n",
    "        self._p = val\n",
    "\n",
    "    @property\n",
    "    def mu(self):\n",
    "        return self._mu\n",
    "\n",
    "    @mu.setter\n",
    "    def mu(self, val):\n",
    "        self._mu = val\n",
    "\n",
    "    @property\n",
    "    def Sigma(self):\n",
    "        return self._Sigma\n",
    "\n",
    "    @Sigma.setter\n",
    "    def Sigma(self, val):\n",
    "        if val:\n",
    "            self._Sigma = val\n",
    "        else:\n",
    "            self._Sigma = random_scatter(1, self._p)\n",
    "\n",
    "    @property\n",
    "    def beta(self):\n",
    "        return self._beta\n",
    "\n",
    "    @beta.setter\n",
    "    def beta(self, val):\n",
    "        self._beta = val\n",
    "\n",
    "    def sample(self, n_samples=1000, noise_level=0):\n",
    "        phi = 2 * np.pi * np.random.random(n_samples)\n",
    "        u = np.array([np.cos(phi), np.sin(phi)]) + self._mu[:, np.newaxis]\n",
    "        tau = np.power(\n",
    "            np.random.gamma(0.5 * self._p / self._beta, 2, n_samples), 0.5 / self._beta\n",
    "        )\n",
    "        x = tau * np.matmul(np.sqrt(self._Sigma), u)\n",
    "        R = special_ortho_group.rvs(self._p)\n",
    "        x = np.matmul(R, x)\n",
    "        if noise_level > 0:\n",
    "            mu = self._mu[:, np.newaxis]\n",
    "            sigma = np.std(x, axis=1)[:, np.newaxis]\n",
    "            x += sigma * np.random.randn(self._p, x.shape[1]) + mu\n",
    "\n",
    "        return x\n",
    "\n",
    "    def pdf(self, X):\n",
    "        d = X.shape[1]\n",
    "        diff = X - self._mu\n",
    "        exponent = -0.5 * np.sum(\n",
    "            np.power(np.dot(diff, np.linalg.inv(self._Sigma)), 2), axis=1\n",
    "        )\n",
    "        exponent = np.power(1 + exponent / self._beta, -(self._beta + d) / 2)\n",
    "        return np.prod(exponent)\n",
    "\n",
    "    def log_likelihood(self, X):\n",
    "        return np.sum(np.log(self.pdf(X)))\n",
    "\n",
    "\n",
    "def estimate_params(X):\n",
    "    n, d = X.shape\n",
    "    mu0 = np.mean(X, axis=0)\n",
    "    Sigma0 = np.cov(X.T)\n",
    "    beta0 = 3.0\n",
    "    model = MultiVarGenGaussian(mu0, Sigma0, beta0)\n",
    "    res = minimize(lambda beta: -model.log_likelihood(X), beta0, method=\"BFGS\")\n",
    "    beta_hat = res.x[0]\n",
    "    model.beta = beta_hat\n",
    "    return model"
   ]
  },
  {
   "cell_type": "markdown",
   "id": "64d9fa96-7536-402d-84c0-d8b66d28143f",
   "metadata": {},
   "source": [
    "### Animate Sampling Process"
   ]
  },
  {
   "cell_type": "code",
   "execution_count": null,
   "id": "90feef09-2a19-4081-93ba-f16a432240c5",
   "metadata": {},
   "outputs": [],
   "source": [
    "mvgg = MultiVarGenGaussian(mu=np.random.rand(2) * 10 - 5, Sigma=None, beta=0.5, p=2)\n",
    "x = mvgg.sample(2000, 0.25)\n",
    "\n",
    "fig, ax = plt.subplots(1, 1, figsize=(6, 6))\n",
    "ax.set_aspect(1)\n",
    "ax.set_xlabel(\"x1\")\n",
    "ax.set_ylabel(\"x2\")\n",
    "dots = ax.scatter(x[0, :], x[1, :])\n",
    "\n",
    "\n",
    "def init():\n",
    "    x = mvgg.sample(2000, 0.25)\n",
    "    dots.set_offsets(x.T)\n",
    "    return dots\n",
    "\n",
    "\n",
    "def update(frame):\n",
    "    x = mvgg.sample(2000, 0.25)\n",
    "    dots.set_offsets(x.T)\n",
    "    ax.set_xlim(x[0, :].min() - 1, x[0, :].max() + 1)\n",
    "    ax.set_ylim(x[1, :].min() - 1, x[1, :].max() + 1)\n",
    "\n",
    "    return dots\n",
    "\n",
    "\n",
    "ani = FuncAnimation(\n",
    "    fig, update, repeat=False, frames=10, interval=400, init_func=init, blit=True\n",
    ")\n",
    "\n",
    "plt.suptitle(\"MGGD Generative Model\")\n",
    "plt.show()"
   ]
  },
  {
   "cell_type": "markdown",
   "id": "bc7a6deb-8ef0-4eb6-b9a8-59db72b677a5",
   "metadata": {},
   "source": [
    "## Neuronal Multivariate Generalized Gaussian Process (NMGGP)"
   ]
  },
  {
   "cell_type": "code",
   "execution_count": 204,
   "id": "91b1b87e-2d05-4178-a658-5951e25a8738",
   "metadata": {},
   "outputs": [
    {
     "data": {
      "application/vdom.v1+json": {
       "attributes": {},
       "tagName": "div"
      },
      "text/html": [
       "\n",
       "                <script>\n",
       "                    if (Jupyter.version.split(\".\")[0] < 5) {\n",
       "                        var pb = document.getElementById(\"232dfd4f-1765-4821-acb3-bb2850daa67a\");\n",
       "                        var text = document.createTextNode(\n",
       "                            \"HMTL progress bar requires Jupyter Notebook >= \" +\n",
       "                            \"5.0 or Jupyter Lab. Alternatively, you can use \" +\n",
       "                            \"TerminalProgressBar().\");\n",
       "                        pb.parentNode.insertBefore(text, pb);\n",
       "                    }\n",
       "                </script>\n",
       "                <div id=\"232dfd4f-1765-4821-acb3-bb2850daa67a\" style=\"\n",
       "                    width: 100%;\n",
       "                    border: 1px solid #cfcfcf;\n",
       "                    border-radius: 4px;\n",
       "                    text-align: center;\n",
       "                    position: relative;\">\n",
       "                  <div class=\"pb-text\" style=\"\n",
       "                      position: absolute;\n",
       "                      width: 100%;\">\n",
       "                    0%\n",
       "                  </div>\n",
       "                  <div class=\"pb-fill\" style=\"\n",
       "                      background-color: #bdd2e6;\n",
       "                      width: 0%;\">\n",
       "                    <style type=\"text/css\" scoped=\"scoped\">\n",
       "                        @keyframes pb-fill-anim {\n",
       "                            0% { background-position: 0 0; }\n",
       "                            100% { background-position: 100px 0; }\n",
       "                        }\n",
       "                    </style>\n",
       "                    &nbsp;\n",
       "                  </div>\n",
       "                </div>"
      ],
      "text/plain": [
       "HtmlProgressBar cannot be displayed. Please use the TerminalProgressBar. It can be enabled with `nengo.rc['progress']['progress_bar'] = 'nengo.utils.progress.TerminalProgressBar'`."
      ]
     },
     "metadata": {},
     "output_type": "display_data"
    },
    {
     "data": {
      "application/vdom.v1+json": {
       "attributes": {
        "id": "650502c5-a921-4ba5-80f1-efe0f38290b6",
        "style": {
         "border": "1px solid #cfcfcf",
         "borderRadius": "4px",
         "boxSizing": "border-box",
         "position": "relative",
         "textAlign": "center",
         "width": "100%"
        }
       },
       "children": [
        {
         "attributes": {
          "class": "pb-text",
          "style": {
           "position": "absolute",
           "width": "100%"
          }
         },
         "children": [
          "Build finished in 0:00:01."
         ],
         "tagName": "div"
        },
        {
         "attributes": {
          "class": "pb-fill",
          "style": {
           "animation": "none",
           "backgroundColor": "#bdd2e6",
           "backgroundImage": "none",
           "backgroundSize": "100px 100%",
           "width": "100%"
          }
         },
         "children": [
          {
           "attributes": {
            "scoped": "scoped",
            "type": "text/css"
           },
           "children": [
            "\n                        @keyframes pb-fill-anim {\n                            0% { background-position: 0 0; }\n                            100% { background-position: 100px 0; }\n                        }}"
           ],
           "tagName": "style"
          },
          " "
         ],
         "tagName": "div"
        }
       ],
       "tagName": "div"
      },
      "text/html": [
       "<script>\n",
       "              (function () {\n",
       "                  var root = document.getElementById('232dfd4f-1765-4821-acb3-bb2850daa67a');\n",
       "                  var text = root.getElementsByClassName('pb-text')[0];\n",
       "                  var fill = root.getElementsByClassName('pb-fill')[0];\n",
       "\n",
       "                  text.innerHTML = 'Build finished in 0:00:01.';\n",
       "                  \n",
       "            fill.style.width = '100%';\n",
       "            fill.style.animation = 'pb-fill-anim 2s linear infinite';\n",
       "            fill.style.backgroundSize = '100px 100%';\n",
       "            fill.style.backgroundImage = 'repeating-linear-gradient(' +\n",
       "                '90deg, #bdd2e6, #edf2f8 40%, #bdd2e6 80%, #bdd2e6)';\n",
       "        \n",
       "                  \n",
       "                fill.style.animation = 'none';\n",
       "                fill.style.backgroundImage = 'none';\n",
       "            \n",
       "              })();\n",
       "        </script>"
      ]
     },
     "metadata": {},
     "output_type": "display_data"
    },
    {
     "data": {
      "application/vdom.v1+json": {
       "attributes": {},
       "tagName": "div"
      },
      "text/html": [
       "\n",
       "                <script>\n",
       "                    if (Jupyter.version.split(\".\")[0] < 5) {\n",
       "                        var pb = document.getElementById(\"552e6275-4936-48a2-8591-3d2c11c224f7\");\n",
       "                        var text = document.createTextNode(\n",
       "                            \"HMTL progress bar requires Jupyter Notebook >= \" +\n",
       "                            \"5.0 or Jupyter Lab. Alternatively, you can use \" +\n",
       "                            \"TerminalProgressBar().\");\n",
       "                        pb.parentNode.insertBefore(text, pb);\n",
       "                    }\n",
       "                </script>\n",
       "                <div id=\"552e6275-4936-48a2-8591-3d2c11c224f7\" style=\"\n",
       "                    width: 100%;\n",
       "                    border: 1px solid #cfcfcf;\n",
       "                    border-radius: 4px;\n",
       "                    text-align: center;\n",
       "                    position: relative;\">\n",
       "                  <div class=\"pb-text\" style=\"\n",
       "                      position: absolute;\n",
       "                      width: 100%;\">\n",
       "                    0%\n",
       "                  </div>\n",
       "                  <div class=\"pb-fill\" style=\"\n",
       "                      background-color: #bdd2e6;\n",
       "                      width: 0%;\">\n",
       "                    <style type=\"text/css\" scoped=\"scoped\">\n",
       "                        @keyframes pb-fill-anim {\n",
       "                            0% { background-position: 0 0; }\n",
       "                            100% { background-position: 100px 0; }\n",
       "                        }\n",
       "                    </style>\n",
       "                    &nbsp;\n",
       "                  </div>\n",
       "                </div>"
      ],
      "text/plain": [
       "HtmlProgressBar cannot be displayed. Please use the TerminalProgressBar. It can be enabled with `nengo.rc['progress']['progress_bar'] = 'nengo.utils.progress.TerminalProgressBar'`."
      ]
     },
     "metadata": {},
     "output_type": "display_data"
    },
    {
     "data": {
      "application/vdom.v1+json": {
       "attributes": {
        "id": "6caa71f7-86f5-414e-b43f-5071510c2ba8",
        "style": {
         "border": "1px solid #cfcfcf",
         "borderRadius": "4px",
         "boxSizing": "border-box",
         "position": "relative",
         "textAlign": "center",
         "width": "100%"
        }
       },
       "children": [
        {
         "attributes": {
          "class": "pb-text",
          "style": {
           "position": "absolute",
           "width": "100%"
          }
         },
         "children": [
          "Simulation finished in 0:00:09."
         ],
         "tagName": "div"
        },
        {
         "attributes": {
          "class": "pb-fill",
          "style": {
           "animation": "none",
           "backgroundColor": "#bdd2e6",
           "backgroundImage": "none",
           "transition": "width 0.1s linear",
           "width": "100%"
          }
         },
         "children": [
          {
           "attributes": {
            "scoped": "scoped",
            "type": "text/css"
           },
           "children": [
            "\n                        @keyframes pb-fill-anim {\n                            0% { background-position: 0 0; }\n                            100% { background-position: 100px 0; }\n                        }}"
           ],
           "tagName": "style"
          },
          " "
         ],
         "tagName": "div"
        }
       ],
       "tagName": "div"
      },
      "text/html": [
       "<script>\n",
       "              (function () {\n",
       "                  var root = document.getElementById('552e6275-4936-48a2-8591-3d2c11c224f7');\n",
       "                  var text = root.getElementsByClassName('pb-text')[0];\n",
       "                  var fill = root.getElementsByClassName('pb-fill')[0];\n",
       "\n",
       "                  text.innerHTML = 'Simulation finished in 0:00:09.';\n",
       "                  \n",
       "            if (100.0 > 0.) {\n",
       "                fill.style.transition = 'width 0.1s linear';\n",
       "            } else {\n",
       "                fill.style.transition = 'none';\n",
       "            }\n",
       "\n",
       "            fill.style.width = '100.0%';\n",
       "            fill.style.animation = 'none';\n",
       "            fill.style.backgroundImage = 'none'\n",
       "        \n",
       "                  \n",
       "                fill.style.animation = 'none';\n",
       "                fill.style.backgroundImage = 'none';\n",
       "            \n",
       "              })();\n",
       "        </script>"
      ]
     },
     "metadata": {},
     "output_type": "display_data"
    }
   ],
   "source": [
    "%matplotlib widget\n",
    "\n",
    "import matplotlib.pyplot as plt\n",
    "import nengo\n",
    "import numpy as np\n",
    "from matplotlib.animation import FuncAnimation\n",
    "from TouchDataset import TouchDataset\n",
    "\n",
    "# Prepare dataset\n",
    "dataset = TouchDataset(filepath=\"../data/touch.pkl\", noise_scale=0.2, scope=(-1.0, 1.0))\n",
    "X_train, y_train, X_test, y_test = dataset.split_set(ratio=0.5)\n",
    "height, width = X_train[0].shape\n",
    "n_dims = height * width\n",
    "\n",
    "# Simulation parameters\n",
    "dt = 1e-3\n",
    "duration = (len(X_train) - 1) * dt\n",
    "frames = int(duration // dt)\n",
    "max_rates = 200\n",
    "n_steps = 200\n",
    "\n",
    "ens_params = dict(radius=1, intercepts=nengo.dists.Gaussian(0, 0.1))\n",
    "\n",
    "conn_config = dict(\n",
    "    learning_rule_type=nengo.PES(learning_rate=1e-4),\n",
    "    synapse=dt,\n",
    ")\n",
    "\n",
    "\n",
    "def input_func(t):\n",
    "    index = int(t / dt) // n_steps\n",
    "    sample = X_train[index].flatten()\n",
    "    return sample\n",
    "\n",
    "\n",
    "probes = dict()\n",
    "\n",
    "# Create the Nengo model\n",
    "with nengo.Network(label=\"NMGGP\") as model:\n",
    "    stim = nengo.Node(input_func)\n",
    "    inp = nengo.Ensemble(\n",
    "        n_neurons=stim.size_out,\n",
    "        dimensions=1,\n",
    "        radius=1,\n",
    "        max_rates=np.ones(stim.size_out) * max_rates,\n",
    "        intercepts=np.zeros(stim.size_out),\n",
    "        neuron_type=nengo.PoissonSpiking(nengo.LIFRate()),\n",
    "    )\n",
    "    hidden = nengo.Ensemble(\n",
    "        n_neurons=100, dimensions=1, radius=1, intercepts=np.zeros(100)\n",
    "    )\n",
    "\n",
    "    # Output layer\n",
    "    sigma = nengo.Ensemble(n_neurons=10, dimensions=4, **ens_params)\n",
    "    tau = nengo.Ensemble(n_neurons=10, dimensions=1, **ens_params)\n",
    "\n",
    "    nengo.Connection(stim, inp.neurons, transform=1, synapse=None)\n",
    "    conn_inp_hidden = nengo.Connection(\n",
    "        inp.neurons,\n",
    "        hidden.neurons,\n",
    "        transform=np.random.normal(0, 0.5, size=(hidden.n_neurons, inp.n_neurons)),\n",
    "        **conn_config\n",
    "    )\n",
    "    nengo.Connection(\n",
    "        hidden.neurons,\n",
    "        sigma,\n",
    "        transform=np.random.normal(0, 0.5, size=(sigma.dimensions, hidden.n_neurons)),\n",
    "        **conn_config\n",
    "    )\n",
    "    nengo.Connection(\n",
    "        hidden.neurons,\n",
    "        tau,\n",
    "        transform=np.random.normal(0, 0.5, size=(tau.dimensions, hidden.n_neurons)),\n",
    "        **conn_config\n",
    "    )\n",
    "\n",
    "    # Define probes\n",
    "    inp_probe = nengo.Probe(inp, synapse=0.01)\n",
    "    inp_spike = nengo.Probe(inp.neurons)\n",
    "    hidden_probe = nengo.Probe(hidden, synapse=0.01)\n",
    "    hidden_spike = nengo.Probe(hidden.neurons)\n",
    "    tau_probes = nengo.Probe(sigma, synapse=0.01)\n",
    "    tau_spikes = nengo.Probe(sigma.neurons, synapse=0.01)\n",
    "\n",
    "\n",
    "# Simulate the network\n",
    "with nengo.Simulator(model, dt=dt) as sim:\n",
    "    sim.run(duration)"
   ]
  },
  {
   "cell_type": "markdown",
   "id": "ddf9e64a-8cfa-45da-9c45-fdb2495925e6",
   "metadata": {},
   "source": [
    "### Plot results"
   ]
  },
  {
   "cell_type": "code",
   "execution_count": 205,
   "id": "fa428e23-db33-4e56-b6b9-8a02d9451fba",
   "metadata": {},
   "outputs": [
    {
     "data": {
      "application/vnd.jupyter.widget-view+json": {
       "model_id": "01c6319a15664326a5b567cdf723b9ef",
       "version_major": 2,
       "version_minor": 0
      },
      "image/png": "[encoded data removed]",
      "text/html": [
       "\n",
       "            <div style=\"display: inline-block;\">\n",
       "                <div class=\"jupyter-widgets widget-label\" style=\"text-align: center;\">\n",
       "                    Figure\n",
       "                </div>\n",
       "                <img src='data:image/png;base64,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' width=800.0/>\n",
       "            </div>\n",
       "        "
      ],
      "text/plain": [
       "Canvas(toolbar=Toolbar(toolitems=[('Home', 'Reset original view', 'home', 'home'), ('Back', 'Back to previous …"
      ]
     },
     "metadata": {},
     "output_type": "display_data"
    }
   ],
   "source": [
    "plt.close(\"all\")\n",
    "fig, ax = plt.subplots(1, 2, figsize=(8, 4))\n",
    "\n",
    "spikes = np.sum(sim.data[hidden_spike], axis=0).reshape((10, 10))\n",
    "sample = input_func(t)\n",
    "ax[0].imshow(sample.reshape((15, 15)))\n",
    "ax[1].imshow(spikes)\n",
    "plt.show()"
   ]
  }
 ],
 "metadata": {
  "kernelspec": {
   "display_name": "Python 3 (ipykernel)",
   "language": "python",
   "name": "python3"
  },
  "language_info": {
   "codemirror_mode": {
    "name": "ipython",
    "version": 3
   },
   "file_extension": ".py",
   "mimetype": "text/x-python",
   "name": "python",
   "nbconvert_exporter": "python",
   "pygments_lexer": "ipython3",
   "version": "3.10.8"
  }
 },
 "nbformat": 4,
 "nbformat_minor": 5
}
