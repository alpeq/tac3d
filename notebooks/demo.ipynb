{
 "cells": [
  {
   "cell_type": "code",
   "execution_count": 2,
   "id": "875402eb-ce84-4b82-844e-ac0e19802bee",
   "metadata": {},
   "outputs": [],
   "source": [
    "import nengo\n",
    "import numpy as np\n",
    "import pylab as plt\n",
    "\n",
    "%matplotlib widget"
   ]
  },
  {
   "cell_type": "code",
   "execution_count": null,
   "id": "c72316ed-86bd-4d05-822b-3f2c7f8ba05f",
   "metadata": {},
   "outputs": [],
   "source": [
    "# Use NxSDK backend on Loihi\n",
    "import nengo_loihi\n",
    "nengo_loihi.set_defaults()"
   ]
  },
  {
   "cell_type": "code",
   "execution_count": 8,
   "id": "bad45d67-5e78-454b-8c77-0786bfd82fff",
   "metadata": {},
   "outputs": [],
   "source": [
    "with nengo.Network(label=\"MLP\") as model:\n",
    "    sin_node = nengo.Node(output=np.sin)\n",
    "    ens = nengo.Ensemble(n_neurons=100, dimensions=1, neuron_type=nengo.AdaptiveLIF())\n",
    "    nengo.Connection(sin_node, ens)\n",
    "    ens_probe = nengo.Probe(ens)"
   ]
  },
  {
   "cell_type": "code",
   "execution_count": 5,
   "id": "bfd8de6f-9237-4c89-9983-ba90e122b13a",
   "metadata": {},
   "outputs": [
    {
     "data": {
      "application/vdom.v1+json": {
       "attributes": {},
       "tagName": "div"
      },
      "text/html": [
       "\n",
       "                <script>\n",
       "                    if (Jupyter.version.split(\".\")[0] < 5) {\n",
       "                        var pb = document.getElementById(\"2d8f8689-7621-4d36-999a-191abf88a520\");\n",
       "                        var text = document.createTextNode(\n",
       "                            \"HMTL progress bar requires Jupyter Notebook >= \" +\n",
       "                            \"5.0 or Jupyter Lab. Alternatively, you can use \" +\n",
       "                            \"TerminalProgressBar().\");\n",
       "                        pb.parentNode.insertBefore(text, pb);\n",
       "                    }\n",
       "                </script>\n",
       "                <div id=\"2d8f8689-7621-4d36-999a-191abf88a520\" style=\"\n",
       "                    width: 100%;\n",
       "                    border: 1px solid #cfcfcf;\n",
       "                    border-radius: 4px;\n",
       "                    text-align: center;\n",
       "                    position: relative;\">\n",
       "                  <div class=\"pb-text\" style=\"\n",
       "                      position: absolute;\n",
       "                      width: 100%;\">\n",
       "                    0%\n",
       "                  </div>\n",
       "                  <div class=\"pb-fill\" style=\"\n",
       "                      background-color: #bdd2e6;\n",
       "                      width: 0%;\">\n",
       "                    <style type=\"text/css\" scoped=\"scoped\">\n",
       "                        @keyframes pb-fill-anim {\n",
       "                            0% { background-position: 0 0; }\n",
       "                            100% { background-position: 100px 0; }\n",
       "                        }\n",
       "                    </style>\n",
       "                    &nbsp;\n",
       "                  </div>\n",
       "                </div>"
      ],
      "text/plain": [
       "HtmlProgressBar cannot be displayed. Please use the TerminalProgressBar. It can be enabled with `nengo.rc['progress']['progress_bar'] = 'nengo.utils.progress.TerminalProgressBar'`."
      ]
     },
     "metadata": {},
     "output_type": "display_data"
    },
    {
     "data": {
      "application/vdom.v1+json": {
       "attributes": {
        "id": "ececfe37-f6db-4460-8dbb-010bf6e965a4",
        "style": {
         "border": "1px solid #cfcfcf",
         "borderRadius": "4px",
         "boxSizing": "border-box",
         "position": "relative",
         "textAlign": "center",
         "width": "100%"
        }
       },
       "children": [
        {
         "attributes": {
          "class": "pb-text",
          "style": {
           "position": "absolute",
           "width": "100%"
          }
         },
         "children": [
          "Build finished in 0:00:01."
         ],
         "tagName": "div"
        },
        {
         "attributes": {
          "class": "pb-fill",
          "style": {
           "animation": "none",
           "backgroundColor": "#bdd2e6",
           "backgroundImage": "none",
           "backgroundSize": "100px 100%",
           "width": "100%"
          }
         },
         "children": [
          {
           "attributes": {
            "scoped": "scoped",
            "type": "text/css"
           },
           "children": [
            "\n                        @keyframes pb-fill-anim {\n                            0% { background-position: 0 0; }\n                            100% { background-position: 100px 0; }\n                        }}"
           ],
           "tagName": "style"
          },
          " "
         ],
         "tagName": "div"
        }
       ],
       "tagName": "div"
      },
      "text/html": [
       "<script>\n",
       "              (function () {\n",
       "                  var root = document.getElementById('2d8f8689-7621-4d36-999a-191abf88a520');\n",
       "                  var text = root.getElementsByClassName('pb-text')[0];\n",
       "                  var fill = root.getElementsByClassName('pb-fill')[0];\n",
       "\n",
       "                  text.innerHTML = 'Build finished in 0:00:01.';\n",
       "                  \n",
       "            fill.style.width = '100%';\n",
       "            fill.style.animation = 'pb-fill-anim 2s linear infinite';\n",
       "            fill.style.backgroundSize = '100px 100%';\n",
       "            fill.style.backgroundImage = 'repeating-linear-gradient(' +\n",
       "                '90deg, #bdd2e6, #edf2f8 40%, #bdd2e6 80%, #bdd2e6)';\n",
       "        \n",
       "                  \n",
       "                fill.style.animation = 'none';\n",
       "                fill.style.backgroundImage = 'none';\n",
       "            \n",
       "              })();\n",
       "        </script>"
      ]
     },
     "metadata": {},
     "output_type": "display_data"
    },
    {
     "data": {
      "application/vdom.v1+json": {
       "attributes": {},
       "tagName": "div"
      },
      "text/html": [
       "\n",
       "                <script>\n",
       "                    if (Jupyter.version.split(\".\")[0] < 5) {\n",
       "                        var pb = document.getElementById(\"a113b87c-5259-4829-9bc7-53c646bb2670\");\n",
       "                        var text = document.createTextNode(\n",
       "                            \"HMTL progress bar requires Jupyter Notebook >= \" +\n",
       "                            \"5.0 or Jupyter Lab. Alternatively, you can use \" +\n",
       "                            \"TerminalProgressBar().\");\n",
       "                        pb.parentNode.insertBefore(text, pb);\n",
       "                    }\n",
       "                </script>\n",
       "                <div id=\"a113b87c-5259-4829-9bc7-53c646bb2670\" style=\"\n",
       "                    width: 100%;\n",
       "                    border: 1px solid #cfcfcf;\n",
       "                    border-radius: 4px;\n",
       "                    text-align: center;\n",
       "                    position: relative;\">\n",
       "                  <div class=\"pb-text\" style=\"\n",
       "                      position: absolute;\n",
       "                      width: 100%;\">\n",
       "                    0%\n",
       "                  </div>\n",
       "                  <div class=\"pb-fill\" style=\"\n",
       "                      background-color: #bdd2e6;\n",
       "                      width: 0%;\">\n",
       "                    <style type=\"text/css\" scoped=\"scoped\">\n",
       "                        @keyframes pb-fill-anim {\n",
       "                            0% { background-position: 0 0; }\n",
       "                            100% { background-position: 100px 0; }\n",
       "                        }\n",
       "                    </style>\n",
       "                    &nbsp;\n",
       "                  </div>\n",
       "                </div>"
      ],
      "text/plain": [
       "HtmlProgressBar cannot be displayed. Please use the TerminalProgressBar. It can be enabled with `nengo.rc['progress']['progress_bar'] = 'nengo.utils.progress.TerminalProgressBar'`."
      ]
     },
     "metadata": {},
     "output_type": "display_data"
    },
    {
     "data": {
      "application/vdom.v1+json": {
       "attributes": {
        "id": "cd4e8e66-2192-4b69-ae7c-2a8cf4f2b969",
        "style": {
         "border": "1px solid #cfcfcf",
         "borderRadius": "4px",
         "boxSizing": "border-box",
         "position": "relative",
         "textAlign": "center",
         "width": "100%"
        }
       },
       "children": [
        {
         "attributes": {
          "class": "pb-text",
          "style": {
           "position": "absolute",
           "width": "100%"
          }
         },
         "children": [
          "Simulation finished in 0:00:01."
         ],
         "tagName": "div"
        },
        {
         "attributes": {
          "class": "pb-fill",
          "style": {
           "animation": "none",
           "backgroundColor": "#bdd2e6",
           "backgroundImage": "none",
           "transition": "width 0.1s linear",
           "width": "100%"
          }
         },
         "children": [
          {
           "attributes": {
            "scoped": "scoped",
            "type": "text/css"
           },
           "children": [
            "\n                        @keyframes pb-fill-anim {\n                            0% { background-position: 0 0; }\n                            100% { background-position: 100px 0; }\n                        }}"
           ],
           "tagName": "style"
          },
          " "
         ],
         "tagName": "div"
        }
       ],
       "tagName": "div"
      },
      "text/html": [
       "<script>\n",
       "              (function () {\n",
       "                  var root = document.getElementById('a113b87c-5259-4829-9bc7-53c646bb2670');\n",
       "                  var text = root.getElementsByClassName('pb-text')[0];\n",
       "                  var fill = root.getElementsByClassName('pb-fill')[0];\n",
       "\n",
       "                  text.innerHTML = 'Simulation finished in 0:00:01.';\n",
       "                  \n",
       "            if (100.0 > 0.) {\n",
       "                fill.style.transition = 'width 0.1s linear';\n",
       "            } else {\n",
       "                fill.style.transition = 'none';\n",
       "            }\n",
       "\n",
       "            fill.style.width = '100.0%';\n",
       "            fill.style.animation = 'none';\n",
       "            fill.style.backgroundImage = 'none'\n",
       "        \n",
       "                  \n",
       "                fill.style.animation = 'none';\n",
       "                fill.style.backgroundImage = 'none';\n",
       "            \n",
       "              })();\n",
       "        </script>"
      ]
     },
     "metadata": {},
     "output_type": "display_data"
    }
   ],
   "source": [
    "with nengo.Simulator(model) as sim:\n",
    "    sim.run(10)\n",
    "t = sim.trange()"
   ]
  },
  {
   "cell_type": "code",
   "execution_count": 6,
   "id": "070fa6de-2960-4537-a676-745afe58765b",
   "metadata": {},
   "outputs": [
    {
     "data": {
      "application/vnd.jupyter.widget-view+json": {
       "model_id": "6d25c39194eb443fa35788639e734e7a",
       "version_major": 2,
       "version_minor": 0
      },
      "image/png": "[encoded data removed]",
      "text/html": [
       "\n",
       "            <div style=\"display: inline-block;\">\n",
       "                <div class=\"jupyter-widgets widget-label\" style=\"text-align: center;\">\n",
       "                    Figure\n",
       "                </div>\n",
       "                <img src='data:image/png;base64,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' width=640.0/>\n",
       "            </div>\n",
       "        "
      ],
      "text/plain": [
       "Canvas(toolbar=Toolbar(toolitems=[('Home', 'Reset original view', 'home', 'home'), ('Back', 'Back to previous …"
      ]
     },
     "metadata": {},
     "output_type": "display_data"
    }
   ],
   "source": [
    "def plot_over_time(t, data):\n",
    "    plt.figure()\n",
    "    plt.plot(t, data[ens_probe])\n",
    "    plt.xlabel(\"Time (s)\", fontsize=\"large\")\n",
    "    plt.legend([\"$x$\"])\n",
    "\n",
    "\n",
    "plot_over_time(t, sim.data)"
   ]
  }
 ],
 "metadata": {
  "kernelspec": {
   "display_name": "Python 3 (ipykernel)",
   "language": "python",
   "name": "python3"
  },
  "language_info": {
   "codemirror_mode": {
    "name": "ipython",
    "version": 3
   },
   "file_extension": ".py",
   "mimetype": "text/x-python",
   "name": "python",
   "nbconvert_exporter": "python",
   "pygments_lexer": "ipython3",
   "version": "3.10.5"
  }
 },
 "nbformat": 4,
 "nbformat_minor": 5
}
