{
 "cells": [
  {
   "cell_type": "markdown",
   "metadata": {},
   "source": [
    "# Import Packages"
   ]
  },
  {
   "cell_type": "code",
   "execution_count": null,
   "metadata": {},
   "outputs": [],
   "source": [
    "import numpy as np\n",
    "import matplotlib.pyplot as plt\n",
    "\n",
    "from brian2 import *\n",
    "from brian2tools import brian_plot, plot_state\n",
    "from matplotlib import animation\n",
    "\n",
    "from TacNet import TacNet\n",
    "\n",
    "\n",
    "set_device('cpp_standalone')\n",
    "# Suppress code generation messages on the console\n",
    "BrianLogger.suppress_hierarchy('brian2.codegen')\n",
    "# Suppress preference messages even in the log file\n",
    "BrianLogger.suppress_hierarchy('brian2.core.preferences', filter_log_file=True)"
   ]
  },
  {
   "cell_type": "markdown",
   "metadata": {},
   "source": [
    "# Test TacNet - tactile encoding spiking network"
   ]
  },
  {
   "cell_type": "code",
   "execution_count": null,
   "metadata": {},
   "outputs": [],
   "source": [
    "dt = 1*ms\n",
    "\n",
    "# Load dataset\n",
    "dataset = np.load(\"../data/touch.pkl\", allow_pickle=True)\n",
    "sensordata = dataset['sharp_site']['sensordata']\n",
    "orientations = dataset['sharp_site']['orientations']\n",
    "data = np.asarray(sensordata)\n",
    "\n",
    "# Convert values to spikes\n",
    "length, height, width = data.shape\n",
    "inputs = data.reshape(length, -1)\n",
    "inputs[inputs > 0] = 1.\n",
    "I = TimedArray(inputs*200*pA, dt=dt)\n",
    "if 'initiated' in locals():\n",
    "    device.reinit()\n",
    "    device.activate()\n",
    "else:\n",
    "    initiated = True\n",
    "\n",
    "duration = I.values.shape[0]*dt\n",
    "num_neurons = [height*width, 25, 12]\n",
    "model = TacNet(num_neurons)\n",
    "mons = model.run(I, duration)\n",
    "\n",
    "# Plot results\n",
    "fig, axs = plt.subplots(7, 1, figsize=(20, 21))\n",
    "for i in range(3):\n",
    "    axs[i].set_title('Spike L'+str(i+1))\n",
    "    brian_plot(mons['SpikeMonitor_L'+str(i+1)], axes=axs[i])\n",
    "\n",
    "axs[3].set_title('L3 Membrane Potential')\n",
    "plot_state(mons['StateMonitor_L3'].t, mons['StateMonitor_L3'].v.T, axes=axs[3])\n",
    "axs[4].set_title('Syn23 X')\n",
    "plot_state(mons['StateMonitor_Syn23'].t,\n",
    "            mons['StateMonitor_Syn23'].X.T, axes=axs[4])\n",
    "axs[5].set_title('Syn12 Connectivity')\n",
    "brian_plot(model.net['Syn12'], axes=axs[5])\n",
    "axs[6].set_title('Syn23 Final X')\n",
    "axs[6].set_xlabel('target neuron index')\n",
    "axs[6].set_ylabel('source neuron index')\n",
    "axs[6].imshow(model.net['Syn23'].X_[:].reshape(\n",
    "    (num_neurons[1], num_neurons[2])))\n",
    "plt.tight_layout()\n",
    "plt.show()\n"
   ]
  },
  {
   "attachments": {},
   "cell_type": "markdown",
   "metadata": {},
   "source": [
    "<!--\n",
    " Copyright 2023 wngfra.\n",
    " SPDX-License-Identifier: Apache-2.0\n",
    "-->\n",
    "\n"
   ]
  },
  {
   "cell_type": "code",
   "execution_count": null,
   "metadata": {},
   "outputs": [],
   "source": [
    "def display_video(frames, framerate=120, figsize=(10, 10)):\n",
    "    dpi = 300\n",
    "    try:\n",
    "        height, width, _ = frames[0].shape\n",
    "    except ValueError as e:\n",
    "        height, width = frames[0].shape\n",
    "    orig_backend = matplotlib.get_backend()\n",
    "    # Switch to headless 'Agg' to inhibit figure rendering.\n",
    "    matplotlib.use(\"Agg\")\n",
    "    if figsize is None:\n",
    "        figsize = (width / dpi, height / dpi)\n",
    "    fig, ax = plt.subplots(1, 1, figsize=figsize, dpi=dpi)\n",
    "    ax.set_axis_off()\n",
    "    ax.set_aspect(\"equal\")\n",
    "    ax.set_position([0, 0, 1, 1])\n",
    "    im = ax.imshow(frames[0])\n",
    "    matplotlib.use(orig_backend)\n",
    "\n",
    "    def update(frame):\n",
    "        im.set_data(frame)\n",
    "        return [im]\n",
    "\n",
    "    interval = 1000 / framerate\n",
    "    anim = animation.FuncAnimation(\n",
    "        fig=fig, func=update, frames=frames, interval=interval, blit=True, repeat=False\n",
    "    )\n",
    "    return anim.to_html5_video()\n",
    "\n",
    "display_video(data)"
   ]
  },
  {
   "cell_type": "markdown",
   "metadata": {},
   "source": [
    "# Reference\n",
    "1. F. Pascal, L. Bombrun, J. -Y. Tourneret and Y. Berthoumieu, \"Parameter Estimation For Multivariate Generalized Gaussian Distributions,\" in IEEE Transactions on Signal Processing, vol. 61, no. 23, pp. 5960-5971, Dec.1, 2013, doi: 10.1109/TSP.2013.2282909.\n",
    "2. A. Parvizi-Fard, M. Amiri, D. Kumar, M. M. Iskarous, and N. V. Thakor, “A functional spiking neuronal network for tactile sensing pathway to process edge orientation,” Sci Rep, vol. 11, no. 1, p. 1320, Dec. 2021, doi: 10.1038/s41598-020-80132-4.\n",
    "3. J. A. Pruszynski and R. S. Johansson, “Edge-orientation processing in first-order tactile neurons,” Nat Neurosci, vol. 17, no. 10, pp. 1404–1409, Oct. 2014, doi: 10.1038/nn.3804.\n",
    "4. J. M. Yau, S. S. Kim, P. H. Thakur, and S. J. Bensmaia, “Feeling form: the neural basis of haptic shape perception,” Journal of Neurophysiology, vol. 115, no. 2, pp. 631–642, Feb. 2016, doi: 10.1152/jn.00598.2015.\n",
    "5. G. Sutanto, Z. Su, S. Schaal, and F. Meier, “Learning Sensor Feedback Models from Demonstrations via Phase-Modulated Neural Networks,” in 2018 IEEE International Conference on Robotics and Automation (ICRA), Brisbane, QLD, May 2018, pp. 1142–1149. doi: 10.1109/ICRA.2018.8460986."
   ]
  }
 ],
 "metadata": {
  "kernelspec": {
   "display_name": "brian",
   "language": "python",
   "name": "python3"
  },
  "language_info": {
   "codemirror_mode": {
    "name": "ipython",
    "version": 3
   },
   "file_extension": ".py",
   "mimetype": "text/x-python",
   "name": "python",
   "nbconvert_exporter": "python",
   "pygments_lexer": "ipython3",
   "version": "3.11.0"
  },
  "orig_nbformat": 4,
  "vscode": {
   "interpreter": {
    "hash": "f810fd30917845ff934f7c6e23efdc5b50e9400772765ac0b00dcbae448bd04a"
   }
  }
 },
 "nbformat": 4,
 "nbformat_minor": 2
}
