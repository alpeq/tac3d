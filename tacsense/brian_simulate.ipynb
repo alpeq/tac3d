{
 "cells": [
  {
   "cell_type": "markdown",
   "metadata": {},
   "source": [
    "# Import Packages"
   ]
  },
  {
   "cell_type": "code",
   "execution_count": 1,
   "metadata": {},
   "outputs": [],
   "source": [
    "import numpy as np\n",
    "import matplotlib.pyplot as plt\n",
    "\n",
    "from brian2 import *\n",
    "from brian2tools import brian_plot, plot_state\n",
    "\n",
    "from TacNet import TacNet\n",
    "\n",
    "\n",
    "set_device('cpp_standalone')\n",
    "# Suppress code generation messages on the console\n",
    "# BrianLogger.suppress_hierarchy('brian2.codegen')\n",
    "# Suppress preference messages even in the log file\n",
    "BrianLogger.suppress_hierarchy('brian2.core.preferences', filter_log_file=True)"
   ]
  },
  {
   "cell_type": "code",
   "execution_count": 13,
   "metadata": {},
   "outputs": [
    {
     "data": {
      "image/png": "[encoded data removed]",
      "text/plain": [
       "<Figure size 640x480 with 1 Axes>"
      ]
     },
     "metadata": {},
     "output_type": "display_data"
    }
   ],
   "source": [
    "# Copyright 2023 wngfra.\n",
    "# SPDX-License-Identifier: Apache-2.0\n",
    "# TODO: use normal probability to the synaptic connection for the Gaussian receptive field\n",
    "from scipy.stats import multivariate_normal\n",
    "\n",
    "x, y = np.mgrid[0:15:1, 0:15:1]\n",
    "pos = np.dstack((x, y))\n",
    "\n",
    "rv1 = multivariate_normal([3, 3], [[2.0, 2.0], [1.0, 3.0]])\n",
    "rv2 = multivariate_normal([12, 12], [[3.0, 0.0], [0.0, 1.0]])\n",
    "\n",
    "fig2 = plt.figure()\n",
    "\n",
    "ax2 = fig2.add_subplot(111)\n",
    "\n",
    "ax2.contourf(x, y, rv1.pdf(pos)+rv2.pdf(pos))\n",
    "plt.show()"
   ]
  },
  {
   "cell_type": "markdown",
   "metadata": {},
   "source": [
    "# Test TacNet - tactile encoding spiking network"
   ]
  },
  {
   "cell_type": "code",
   "execution_count": 2,
   "metadata": {},
   "outputs": [
    {
     "name": "stdout",
     "output_type": "stream",
     "text": [
      "225 224\n"
     ]
    },
    {
     "ename": "ValueError",
     "evalue": "shape mismatch: objects cannot be broadcast to a single shape.  Mismatch is between arg 0 with shape (225,) and arg 1 with shape (224,).",
     "output_type": "error",
     "traceback": [
      "\u001b[0;31m---------------------------------------------------------------------------\u001b[0m",
      "\u001b[0;31mValueError\u001b[0m                                Traceback (most recent call last)",
      "Cell \u001b[0;32mIn[2], line 22\u001b[0m\n\u001b[1;32m     20\u001b[0m duration \u001b[39m=\u001b[39m I\u001b[39m.\u001b[39mvalues\u001b[39m.\u001b[39mshape[\u001b[39m0\u001b[39m]\u001b[39m*\u001b[39mdt\n\u001b[1;32m     21\u001b[0m num_neurons \u001b[39m=\u001b[39m [height\u001b[39m*\u001b[39mwidth, \u001b[39m16\u001b[39m, \u001b[39m36\u001b[39m]\n\u001b[0;32m---> 22\u001b[0m model \u001b[39m=\u001b[39m TacNet(num_neurons)\n\u001b[1;32m     23\u001b[0m mons \u001b[39m=\u001b[39m model\u001b[39m.\u001b[39mrun(I, duration)\n\u001b[1;32m     25\u001b[0m \u001b[39m# Plot results\u001b[39;00m\n",
      "File \u001b[0;32m~/tac3d/tacsense/TacNet.py:109\u001b[0m, in \u001b[0;36mTacNet.__init__\u001b[0;34m(self, num_neurons)\u001b[0m\n\u001b[1;32m    106\u001b[0m     i, j \u001b[39m=\u001b[39m generate_conns(synapse\u001b[39m.\u001b[39msource\u001b[39m.\u001b[39mN,\n\u001b[1;32m    107\u001b[0m                           synapse\u001b[39m.\u001b[39mtarget\u001b[39m.\u001b[39mN, mode\u001b[39m=\u001b[39mmode)\n\u001b[1;32m    108\u001b[0m     \u001b[39mprint\u001b[39m(\u001b[39mlen\u001b[39m(i), \u001b[39mlen\u001b[39m(j))\n\u001b[0;32m--> 109\u001b[0m     synapse\u001b[39m.\u001b[39;49mconnect(i\u001b[39m=\u001b[39;49mi, j\u001b[39m=\u001b[39;49mj, condition\u001b[39m=\u001b[39;49mcondition, p\u001b[39m=\u001b[39;49mp)\n\u001b[1;32m    111\u001b[0m \u001b[39m# Define Monitors\u001b[39;00m\n\u001b[1;32m    112\u001b[0m \u001b[39mself\u001b[39m\u001b[39m.\u001b[39mmons \u001b[39m=\u001b[39m \u001b[39mdict\u001b[39m()\n",
      "File \u001b[0;32m~/miniconda3/envs/brian/lib/python3.11/site-packages/brian2/core/base.py:293\u001b[0m, in \u001b[0;36mdevice_override.<locals>.device_override_decorator.<locals>.device_override_decorated_function\u001b[0;34m(*args, **kwds)\u001b[0m\n\u001b[1;32m    291\u001b[0m     \u001b[39mreturn\u001b[39;00m \u001b[39mgetattr\u001b[39m(curdev, name)(\u001b[39m*\u001b[39margs, \u001b[39m*\u001b[39m\u001b[39m*\u001b[39mkwds)\n\u001b[1;32m    292\u001b[0m \u001b[39melse\u001b[39;00m:\n\u001b[0;32m--> 293\u001b[0m     \u001b[39mreturn\u001b[39;00m func(\u001b[39m*\u001b[39;49margs, \u001b[39m*\u001b[39;49m\u001b[39m*\u001b[39;49mkwds)\n",
      "File \u001b[0;32m~/miniconda3/envs/brian/lib/python3.11/site-packages/brian2/synapses/synapses.py:1375\u001b[0m, in \u001b[0;36mSynapses.connect\u001b[0;34m(self, condition, i, j, p, n, skip_if_invalid, namespace, level)\u001b[0m\n\u001b[1;32m   1372\u001b[0m     \u001b[39mif\u001b[39;00m skip_if_invalid:\n\u001b[1;32m   1373\u001b[0m         \u001b[39mraise\u001b[39;00m \u001b[39mValueError\u001b[39;00m(\u001b[39m\"\u001b[39m\u001b[39mCan only use skip_if_invalid with string \u001b[39m\u001b[39m\"\u001b[39m\n\u001b[1;32m   1374\u001b[0m                          \u001b[39m\"\u001b[39m\u001b[39msyntax\u001b[39m\u001b[39m\"\u001b[39m)\n\u001b[0;32m-> 1375\u001b[0m     i, j, n \u001b[39m=\u001b[39m \u001b[39mself\u001b[39;49m\u001b[39m.\u001b[39;49m_verify_connect_array_arguments(i, j, n)\n\u001b[1;32m   1376\u001b[0m     \u001b[39mself\u001b[39m\u001b[39m.\u001b[39m_add_synapses_from_arrays(i, j, n, p, namespace\u001b[39m=\u001b[39mnamespace)\n\u001b[1;32m   1377\u001b[0m \u001b[39m# 3: Generator expression over post-synaptic cells (i='...')\u001b[39;00m\n",
      "File \u001b[0;32m~/miniconda3/envs/brian/lib/python3.11/site-packages/brian2/synapses/synapses.py:1416\u001b[0m, in \u001b[0;36mSynapses._verify_connect_array_arguments\u001b[0;34m(self, i, j, n)\u001b[0m\n\u001b[1;32m   1411\u001b[0m \u001b[39mif\u001b[39;00m \u001b[39misinstance\u001b[39m(n, \u001b[39mstr\u001b[39m):\n\u001b[1;32m   1412\u001b[0m     \u001b[39mraise\u001b[39;00m \u001b[39mTypeError\u001b[39;00m(\u001b[39m\"\u001b[39m\u001b[39mIndices cannot be combined with a string\u001b[39m\u001b[39m\"\u001b[39m\n\u001b[1;32m   1413\u001b[0m                     \u001b[39m\"\u001b[39m\u001b[39mexpression for n. Either use an \u001b[39m\u001b[39m\"\u001b[39m\n\u001b[1;32m   1414\u001b[0m                     \u001b[39m\"\u001b[39m\u001b[39marray/scalar for n, or a string \u001b[39m\u001b[39m\"\u001b[39m\n\u001b[1;32m   1415\u001b[0m                     \u001b[39m\"\u001b[39m\u001b[39mexpression for the connections\u001b[39m\u001b[39m\"\u001b[39m)\n\u001b[0;32m-> 1416\u001b[0m i, j, n \u001b[39m=\u001b[39m np\u001b[39m.\u001b[39;49mbroadcast_arrays(i, j, n)\n\u001b[1;32m   1417\u001b[0m \u001b[39mif\u001b[39;00m i\u001b[39m.\u001b[39mndim \u001b[39m>\u001b[39m \u001b[39m1\u001b[39m:\n\u001b[1;32m   1418\u001b[0m     \u001b[39mraise\u001b[39;00m \u001b[39mValueError\u001b[39;00m(\u001b[39m\"\u001b[39m\u001b[39mCan only use 1-dimensional indices\u001b[39m\u001b[39m\"\u001b[39m)\n",
      "File \u001b[0;32m<__array_function__ internals>:200\u001b[0m, in \u001b[0;36mbroadcast_arrays\u001b[0;34m(*args, **kwargs)\u001b[0m\n",
      "File \u001b[0;32m~/miniconda3/envs/brian/lib/python3.11/site-packages/numpy/lib/stride_tricks.py:540\u001b[0m, in \u001b[0;36mbroadcast_arrays\u001b[0;34m(subok, *args)\u001b[0m\n\u001b[1;32m    533\u001b[0m \u001b[39m# nditer is not used here to avoid the limit of 32 arrays.\u001b[39;00m\n\u001b[1;32m    534\u001b[0m \u001b[39m# Otherwise, something like the following one-liner would suffice:\u001b[39;00m\n\u001b[1;32m    535\u001b[0m \u001b[39m# return np.nditer(args, flags=['multi_index', 'zerosize_ok'],\u001b[39;00m\n\u001b[1;32m    536\u001b[0m \u001b[39m#                  order='C').itviews\u001b[39;00m\n\u001b[1;32m    538\u001b[0m args \u001b[39m=\u001b[39m [np\u001b[39m.\u001b[39marray(_m, copy\u001b[39m=\u001b[39m\u001b[39mFalse\u001b[39;00m, subok\u001b[39m=\u001b[39msubok) \u001b[39mfor\u001b[39;00m _m \u001b[39min\u001b[39;00m args]\n\u001b[0;32m--> 540\u001b[0m shape \u001b[39m=\u001b[39m _broadcast_shape(\u001b[39m*\u001b[39;49margs)\n\u001b[1;32m    542\u001b[0m \u001b[39mif\u001b[39;00m \u001b[39mall\u001b[39m(array\u001b[39m.\u001b[39mshape \u001b[39m==\u001b[39m shape \u001b[39mfor\u001b[39;00m array \u001b[39min\u001b[39;00m args):\n\u001b[1;32m    543\u001b[0m     \u001b[39m# Common case where nothing needs to be broadcasted.\u001b[39;00m\n\u001b[1;32m    544\u001b[0m     \u001b[39mreturn\u001b[39;00m args\n",
      "File \u001b[0;32m~/miniconda3/envs/brian/lib/python3.11/site-packages/numpy/lib/stride_tricks.py:422\u001b[0m, in \u001b[0;36m_broadcast_shape\u001b[0;34m(*args)\u001b[0m\n\u001b[1;32m    417\u001b[0m \u001b[39m\u001b[39m\u001b[39m\"\"\"Returns the shape of the arrays that would result from broadcasting the\u001b[39;00m\n\u001b[1;32m    418\u001b[0m \u001b[39msupplied arrays against each other.\u001b[39;00m\n\u001b[1;32m    419\u001b[0m \u001b[39m\"\"\"\u001b[39;00m\n\u001b[1;32m    420\u001b[0m \u001b[39m# use the old-iterator because np.nditer does not handle size 0 arrays\u001b[39;00m\n\u001b[1;32m    421\u001b[0m \u001b[39m# consistently\u001b[39;00m\n\u001b[0;32m--> 422\u001b[0m b \u001b[39m=\u001b[39m np\u001b[39m.\u001b[39;49mbroadcast(\u001b[39m*\u001b[39;49margs[:\u001b[39m32\u001b[39;49m])\n\u001b[1;32m    423\u001b[0m \u001b[39m# unfortunately, it cannot handle 32 or more arguments directly\u001b[39;00m\n\u001b[1;32m    424\u001b[0m \u001b[39mfor\u001b[39;00m pos \u001b[39min\u001b[39;00m \u001b[39mrange\u001b[39m(\u001b[39m32\u001b[39m, \u001b[39mlen\u001b[39m(args), \u001b[39m31\u001b[39m):\n\u001b[1;32m    425\u001b[0m     \u001b[39m# ironically, np.broadcast does not properly handle np.broadcast\u001b[39;00m\n\u001b[1;32m    426\u001b[0m     \u001b[39m# objects (it treats them as scalars)\u001b[39;00m\n\u001b[1;32m    427\u001b[0m     \u001b[39m# use broadcasting to avoid allocating the full array\u001b[39;00m\n",
      "\u001b[0;31mValueError\u001b[0m: shape mismatch: objects cannot be broadcast to a single shape.  Mismatch is between arg 0 with shape (225,) and arg 1 with shape (224,)."
     ]
    }
   ],
   "source": [
    "dt = 1*ms\n",
    "\n",
    "# Load dataset\n",
    "dataset = np.load(\"../data/touch.pkl\", allow_pickle=True)\n",
    "sensordata = dataset['sharp_site']['sensordata']\n",
    "orientations = dataset['sharp_site']['orientations']\n",
    "data = np.asarray(sensordata)\n",
    "\n",
    "# Convert values to spikes\n",
    "length, height, width = data.shape\n",
    "inputs = data.reshape(length, -1)\n",
    "inputs[inputs > 0] = 1.\n",
    "I = TimedArray(inputs*200*pA, dt=dt)\n",
    "if 'initiated' in locals():\n",
    "    device.reinit()\n",
    "    device.activate()\n",
    "else:\n",
    "    initiated = True\n",
    "\n",
    "duration = I.values.shape[0]*dt\n",
    "num_neurons = [height*width, 16, 36]\n",
    "model = TacNet(num_neurons)\n",
    "mons = model.run(I, duration)\n",
    "\n",
    "# Plot results\n",
    "fig, axs = plt.subplots(7, 1, figsize=(20, 21))\n",
    "for i in range(3):\n",
    "    axs[i].set_title('Spike L'+str(i+1))\n",
    "    brian_plot(mons['SpikeMonitor_L'+str(i+1)], axes=axs[i])\n",
    "\n",
    "axs[3].set_title('L3 Membrane Potential')\n",
    "plot_state(mons['StateMonitor_L3'].t, mons['StateMonitor_L3'].v.T, axes=axs[3])\n",
    "axs[4].set_title('Syn23 X')\n",
    "plot_state(mons['StateMonitor_Syn23'].t,\n",
    "            mons['StateMonitor_Syn23'].X.T, axes=axs[4])\n",
    "axs[5].set_title('Syn12 Connectivity')\n",
    "brian_plot(model.net['Syn12'], axes=axs[5])\n",
    "axs[6].set_title('Syn23 Final X')\n",
    "axs[6].set_xlabel('target neuron index')\n",
    "axs[6].set_ylabel('source neuron index')\n",
    "axs[6].imshow(model.net['Syn23'].X_[:].reshape(\n",
    "    (num_neurons[1], num_neurons[2])))\n",
    "plt.tight_layout()\n",
    "plt.show()\n"
   ]
  },
  {
   "attachments": {},
   "cell_type": "markdown",
   "metadata": {},
   "source": [
    "<!--\n",
    " Copyright 2023 wngfra.\n",
    " SPDX-License-Identifier: Apache-2.0\n",
    "-->\n",
    "\n"
   ]
  },
  {
   "cell_type": "code",
   "execution_count": 9,
   "metadata": {},
   "outputs": [
    {
     "data": {
      "image/png": "[encoded data removed]",
      "text/plain": [
       "<Figure size 1000x500 with 1 Axes>"
      ]
     },
     "metadata": {},
     "output_type": "display_data"
    }
   ],
   "source": [
    "fig, axs = plt.subplots(1, 1, figsize=(10, 5))\n",
    "axs.imshow(data[1010, :, :])\n",
    "# axs[1].plot(orientations)\n",
    "plt.tight_layout()\n",
    "plt.show()"
   ]
  },
  {
   "cell_type": "markdown",
   "metadata": {},
   "source": [
    "# Reference\n",
    "1. F. Pascal, L. Bombrun, J. -Y. Tourneret and Y. Berthoumieu, \"Parameter Estimation For Multivariate Generalized Gaussian Distributions,\" in IEEE Transactions on Signal Processing, vol. 61, no. 23, pp. 5960-5971, Dec.1, 2013, doi: 10.1109/TSP.2013.2282909.\n",
    "2. A. Parvizi-Fard, M. Amiri, D. Kumar, M. M. Iskarous, and N. V. Thakor, “A functional spiking neuronal network for tactile sensing pathway to process edge orientation,” Sci Rep, vol. 11, no. 1, p. 1320, Dec. 2021, doi: 10.1038/s41598-020-80132-4.\n",
    "3. J. A. Pruszynski and R. S. Johansson, “Edge-orientation processing in first-order tactile neurons,” Nat Neurosci, vol. 17, no. 10, pp. 1404–1409, Oct. 2014, doi: 10.1038/nn.3804.\n",
    "4. J. M. Yau, S. S. Kim, P. H. Thakur, and S. J. Bensmaia, “Feeling form: the neural basis of haptic shape perception,” Journal of Neurophysiology, vol. 115, no. 2, pp. 631–642, Feb. 2016, doi: 10.1152/jn.00598.2015.\n",
    "5. G. Sutanto, Z. Su, S. Schaal, and F. Meier, “Learning Sensor Feedback Models from Demonstrations via Phase-Modulated Neural Networks,” in 2018 IEEE International Conference on Robotics and Automation (ICRA), Brisbane, QLD, May 2018, pp. 1142–1149. doi: 10.1109/ICRA.2018.8460986."
   ]
  }
 ],
 "metadata": {
  "kernelspec": {
   "display_name": "brian",
   "language": "python",
   "name": "python3"
  },
  "language_info": {
   "codemirror_mode": {
    "name": "ipython",
    "version": 3
   },
   "file_extension": ".py",
   "mimetype": "text/x-python",
   "name": "python",
   "nbconvert_exporter": "python",
   "pygments_lexer": "ipython3",
   "version": "3.11.0"
  },
  "orig_nbformat": 4,
  "vscode": {
   "interpreter": {
    "hash": "f810fd30917845ff934f7c6e23efdc5b50e9400772765ac0b00dcbae448bd04a"
   }
  }
 },
 "nbformat": 4,
 "nbformat_minor": 2
}
