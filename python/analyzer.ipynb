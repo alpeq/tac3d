{
 "cells": [
  {
   "cell_type": "code",
   "execution_count": 1,
   "id": "13b5111e-1bae-4e98-ae34-0c38659a3f09",
   "metadata": {},
   "outputs": [
    {
     "name": "stderr",
     "output_type": "stream",
     "text": [
      "Exception in thread Thread-4:\n",
      "Traceback (most recent call last):\n",
      "  File \"/home/alex/miniconda3/envs/neuro/lib/python3.9/threading.py\", line 980, in _bootstrap_inner\n",
      "    self.run()\n",
      "  File \"/home/alex/miniconda3/envs/neuro/lib/python3.9/threading.py\", line 917, in run\n",
      "    self._target(*self._args, **self._kwargs)\n",
      "  File \"/home/alex/tac3d/python/Sensor.py\", line 43, in __update_values\n",
      "    if not self.__ser.is_open:\n",
      "AttributeError: 'Sensor' object has no attribute '_Sensor__ser'\n"
     ]
    },
    {
     "name": "stdout",
     "output_type": "stream",
     "text": [
      "[Errno 2] could not open port /dev/ttyACM0: [Errno 2] No such file or directory: '/dev/ttyACM0'\n",
      "Sensor interface operated in simulation mode.\n",
      "\n"
     ]
    }
   ],
   "source": [
    "from Sensor import Sensor\n",
    "\n",
    "%matplotlib tk\n",
    "\n",
    "sensor = Sensor((5, 5), '/dev/ttyACM1', animated=True)"
   ]
  },
  {
   "cell_type": "code",
   "execution_count": null,
   "id": "875402eb-ce84-4b82-844e-ac0e19802bee",
   "metadata": {},
   "outputs": [],
   "source": []
  }
 ],
 "metadata": {
  "kernelspec": {
   "display_name": "Python 3",
   "language": "python",
   "name": "python3"
  },
  "language_info": {
   "codemirror_mode": {
    "name": "ipython",
    "version": 3
   },
   "file_extension": ".py",
   "mimetype": "text/x-python",
   "name": "python",
   "nbconvert_exporter": "python",
   "pygments_lexer": "ipython3",
   "version": "3.9.13"
  }
 },
 "nbformat": 4,
 "nbformat_minor": 5
}
